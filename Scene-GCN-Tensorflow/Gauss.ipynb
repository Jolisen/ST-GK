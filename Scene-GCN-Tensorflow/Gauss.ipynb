{
 "cells": [
  {
   "cell_type": "code",
   "execution_count": 6,
   "id": "e9f76782",
   "metadata": {
    "scrolled": true
   },
   "outputs": [],
   "source": [
    "import numpy as np\n",
    "import pandas as pd\n",
    "from math import sin, asin, cos, radians, fabs, sqrt\n",
    "\n",
    "EARTH_RADIUS = 6371      # 地球平均半径大约6371km\n",
    "\n",
    "\n",
    "def hav(theta):\n",
    "    s = sin(theta / 2)\n",
    "    return s * s\n",
    "\n",
    "\n",
    "def get_distance_hav(lat0, lng0, lat1, lng1):\n",
    "    # 用haversine公式计算球面两点间的距离\n",
    "    # 经纬度转换成弧度\n",
    "    lat0 = radians(lat0)\n",
    "    lat1 = radians(lat1)\n",
    "    lng0 = radians(lng0)\n",
    "    lng1 = radians(lng1)\n",
    "    dlng = fabs(lng0 - lng1)\n",
    "    dlat = fabs(lat0 - lat1)\n",
    "    h = hav(dlat) + cos(lat0) * cos(lat1) * hav(dlng)\n",
    "    distance = 2 * EARTH_RADIUS * asin(sqrt(h))      # km\n",
    "    return distance\n",
    "\n",
    "def gaussian_kernel(lat0, lng0, lat1, lng1, sigma):\n",
    "    distance_hav = get_distance_hav(lat0, lng0, lat1, lng1)\n",
    "    distance = np.linalg.norm(distance_hav)\n",
    "    print(distance)\n",
    "    similarity = np.exp(-distance**2 / (2* (sigma**2)))\n",
    "    print(similarity)\n",
    "    print('\\n')\n",
    "    return similarity\n",
    "\n",
    "def compute_similarity_matrix(X,sigma):\n",
    "    n = X.shape[0]\n",
    "    S = np.zeros((n, n))\n",
    "    for i in range(n):\n",
    "        for j in range(n):\n",
    "            lat0=X[i,1]\n",
    "            lng0=X[i,0]\n",
    "            lat1=X[j,1]\n",
    "            lng1=X[j,0]\n",
    "            print(lat0)\n",
    "            print(lng0)\n",
    "            print(lat1)\n",
    "            print(lng1)\n",
    "            S[i,j] = gaussian_kernel(lat0, lng0, lat1, lng1, sigma)\n",
    "    return S"
   ]
  },
  {
   "cell_type": "code",
   "execution_count": null,
   "id": "340feb8d",
   "metadata": {},
   "outputs": [],
   "source": [
    "df=pd.DataFrame(pd.read_excel(r'D:\\myJupyter\\paper1\\Scene-GCN-Tensorflow\\Scene-GCNdata\\Gauss03.xlsx',usecols=['longitude','latitude']))\n",
    "df=df.values\n",
    "print(df)"
   ]
  },
  {
   "cell_type": "code",
   "execution_count": null,
   "id": "6e1374e0",
   "metadata": {},
   "outputs": [],
   "source": [
    "X = df\n",
    "distance=[]\n",
    "n = X.shape[0]\n",
    "for i in range(n):\n",
    "    for j in range(n):\n",
    "        lat0=X[i,1]\n",
    "        lng0=X[i,0]\n",
    "        lat1=X[j,1]\n",
    "        lng1=X[j,0]\n",
    "        distance.append(get_distance_hav(lat0, lng0, lat1, lng1))\n",
    "print(distance)\n",
    "sigma=np.std(distance)\n",
    "sigma"
   ]
  },
  {
   "cell_type": "code",
   "execution_count": null,
   "id": "8a58ebba",
   "metadata": {},
   "outputs": [],
   "source": [
    "X = df\n",
    "S = compute_similarity_matrix(X, sigma)\n",
    "S"
   ]
  },
  {
   "cell_type": "code",
   "execution_count": null,
   "id": "0f775eb8",
   "metadata": {},
   "outputs": [],
   "source": [
    "np.fill_diagonal(S,0)\n",
    "S[S == 1] = 0\n",
    "S"
   ]
  },
  {
   "cell_type": "code",
   "execution_count": 14,
   "id": "78ef769a",
   "metadata": {},
   "outputs": [],
   "source": [
    "df = pd.DataFrame(S)\n",
    "df.to_excel(r'D:\\myJupyter\\paper1\\Scene-GCN-Tensorflow\\Scene-GCNdata\\3611817550_adj.xlsx')"
   ]
  },
  {
   "cell_type": "code",
   "execution_count": null,
   "id": "c6d027c7",
   "metadata": {},
   "outputs": [],
   "source": []
  }
 ],
 "metadata": {
  "kernelspec": {
   "display_name": "Python 3 (ipykernel)",
   "language": "python",
   "name": "python3"
  },
  "language_info": {
   "codemirror_mode": {
    "name": "ipython",
    "version": 3
   },
   "file_extension": ".py",
   "mimetype": "text/x-python",
   "name": "python",
   "nbconvert_exporter": "python",
   "pygments_lexer": "ipython3",
   "version": "3.11.4"
  }
 },
 "nbformat": 4,
 "nbformat_minor": 5
}
